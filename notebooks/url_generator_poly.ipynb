{
 "cells": [
  {
   "cell_type": "markdown",
   "metadata": {
    "toc": "true"
   },
   "source": [
    "# Table of Contents\n",
    " <p>"
   ]
  },
  {
   "cell_type": "code",
   "execution_count": 1,
   "metadata": {},
   "outputs": [],
   "source": [
    "import pandas as pd\n",
    "import geopandas as gpd\n",
    "from shapely.geometry import Point"
   ]
  },
  {
   "cell_type": "code",
   "execution_count": 2,
   "metadata": {},
   "outputs": [],
   "source": [
    "# display full, non-truncated rows\n",
    "pd.set_option('display.max_colwidth', None)\n",
    "\n",
    "# columns = ['class', 'unsure', 'area_code?',\n",
    "#            'date', 'camera', 'satellite',\n",
    "#           'deforested_area', 'unknown',\n",
    "#             'area', 'state', 'abbreviation',\n",
    "#           'lat', 'long']\n",
    "\n",
    "brasil_data = pd.read_csv('deter_public_amz_deter_public.csv')"
   ]
  },
  {
   "cell_type": "code",
   "execution_count": 3,
   "metadata": {},
   "outputs": [
    {
     "data": {
      "text/html": [
       "<div>\n",
       "<style scoped>\n",
       "    .dataframe tbody tr th:only-of-type {\n",
       "        vertical-align: middle;\n",
       "    }\n",
       "\n",
       "    .dataframe tbody tr th {\n",
       "        vertical-align: top;\n",
       "    }\n",
       "\n",
       "    .dataframe thead th {\n",
       "        text-align: right;\n",
       "    }\n",
       "</style>\n",
       "<table border=\"1\" class=\"dataframe\">\n",
       "  <thead>\n",
       "    <tr style=\"text-align: right;\">\n",
       "      <th></th>\n",
       "      <th>CLASSNAME</th>\n",
       "      <th>QUADRANT</th>\n",
       "      <th>PATH_ROW</th>\n",
       "      <th>VIEW_DATE</th>\n",
       "      <th>SENSOR</th>\n",
       "      <th>SATELLITE</th>\n",
       "      <th>AREAUCKM</th>\n",
       "      <th>UC</th>\n",
       "      <th>AREAMUNKM</th>\n",
       "      <th>MUNICIPALI</th>\n",
       "      <th>UF</th>\n",
       "      <th>X</th>\n",
       "      <th>Y</th>\n",
       "    </tr>\n",
       "  </thead>\n",
       "  <tbody>\n",
       "    <tr>\n",
       "      <th>0</th>\n",
       "      <td>CICATRIZ_DE_QUEIMADA</td>\n",
       "      <td>NaN</td>\n",
       "      <td>165105</td>\n",
       "      <td>7/27/2020</td>\n",
       "      <td>AWFI</td>\n",
       "      <td>CBERS-4</td>\n",
       "      <td>0.000000</td>\n",
       "      <td>NaN</td>\n",
       "      <td>0.075231</td>\n",
       "      <td>Novo Repartimento</td>\n",
       "      <td>PA</td>\n",
       "      <td>-50.4712</td>\n",
       "      <td>-4.91754</td>\n",
       "    </tr>\n",
       "    <tr>\n",
       "      <th>1</th>\n",
       "      <td>CICATRIZ_DE_QUEIMADA</td>\n",
       "      <td>NaN</td>\n",
       "      <td>168105</td>\n",
       "      <td>1/17/2018</td>\n",
       "      <td>AWFI</td>\n",
       "      <td>CBERS-4</td>\n",
       "      <td>0.000000</td>\n",
       "      <td>NaN</td>\n",
       "      <td>0.344234</td>\n",
       "      <td>Altamira</td>\n",
       "      <td>PA</td>\n",
       "      <td>-55.0566</td>\n",
       "      <td>-6.91208</td>\n",
       "    </tr>\n",
       "    <tr>\n",
       "      <th>2</th>\n",
       "      <td>CICATRIZ_DE_QUEIMADA</td>\n",
       "      <td>NaN</td>\n",
       "      <td>168105</td>\n",
       "      <td>1/17/2018</td>\n",
       "      <td>AWFI</td>\n",
       "      <td>CBERS-4</td>\n",
       "      <td>0.000000</td>\n",
       "      <td>NaN</td>\n",
       "      <td>4.788569</td>\n",
       "      <td>Brasil Novo</td>\n",
       "      <td>PA</td>\n",
       "      <td>-52.5766</td>\n",
       "      <td>-3.56411</td>\n",
       "    </tr>\n",
       "    <tr>\n",
       "      <th>3</th>\n",
       "      <td>CICATRIZ_DE_QUEIMADA</td>\n",
       "      <td>NaN</td>\n",
       "      <td>168105</td>\n",
       "      <td>1/17/2018</td>\n",
       "      <td>AWFI</td>\n",
       "      <td>CBERS-4</td>\n",
       "      <td>0.000000</td>\n",
       "      <td>NaN</td>\n",
       "      <td>1.067603</td>\n",
       "      <td>Altamira</td>\n",
       "      <td>PA</td>\n",
       "      <td>-55.2042</td>\n",
       "      <td>-6.78340</td>\n",
       "    </tr>\n",
       "    <tr>\n",
       "      <th>4</th>\n",
       "      <td>CICATRIZ_DE_QUEIMADA</td>\n",
       "      <td>NaN</td>\n",
       "      <td>168105</td>\n",
       "      <td>1/17/2018</td>\n",
       "      <td>AWFI</td>\n",
       "      <td>CBERS-4</td>\n",
       "      <td>0.000000</td>\n",
       "      <td>NaN</td>\n",
       "      <td>0.067680</td>\n",
       "      <td>Alenquer</td>\n",
       "      <td>PA</td>\n",
       "      <td>-54.9766</td>\n",
       "      <td>-1.79718</td>\n",
       "    </tr>\n",
       "    <tr>\n",
       "      <th>...</th>\n",
       "      <td>...</td>\n",
       "      <td>...</td>\n",
       "      <td>...</td>\n",
       "      <td>...</td>\n",
       "      <td>...</td>\n",
       "      <td>...</td>\n",
       "      <td>...</td>\n",
       "      <td>...</td>\n",
       "      <td>...</td>\n",
       "      <td>...</td>\n",
       "      <td>...</td>\n",
       "      <td>...</td>\n",
       "      <td>...</td>\n",
       "    </tr>\n",
       "    <tr>\n",
       "      <th>186408</th>\n",
       "      <td>MINERACAO</td>\n",
       "      <td>NaN</td>\n",
       "      <td>210124</td>\n",
       "      <td>6/24/2020</td>\n",
       "      <td>WFI</td>\n",
       "      <td>CBERS-4A</td>\n",
       "      <td>0.000000</td>\n",
       "      <td>NaN</td>\n",
       "      <td>0.110526</td>\n",
       "      <td>Cumaru do Norte</td>\n",
       "      <td>PA</td>\n",
       "      <td>-50.9172</td>\n",
       "      <td>-7.76491</td>\n",
       "    </tr>\n",
       "    <tr>\n",
       "      <th>186409</th>\n",
       "      <td>MINERACAO</td>\n",
       "      <td>NaN</td>\n",
       "      <td>165105</td>\n",
       "      <td>7/27/2020</td>\n",
       "      <td>AWFI</td>\n",
       "      <td>CBERS-4</td>\n",
       "      <td>0.000000</td>\n",
       "      <td>NaN</td>\n",
       "      <td>0.095688</td>\n",
       "      <td>Bannach</td>\n",
       "      <td>PA</td>\n",
       "      <td>-50.8812</td>\n",
       "      <td>-7.41031</td>\n",
       "    </tr>\n",
       "    <tr>\n",
       "      <th>186410</th>\n",
       "      <td>MINERACAO</td>\n",
       "      <td>NaN</td>\n",
       "      <td>165105</td>\n",
       "      <td>7/27/2020</td>\n",
       "      <td>AWFI</td>\n",
       "      <td>CBERS-4</td>\n",
       "      <td>0.000000</td>\n",
       "      <td>NaN</td>\n",
       "      <td>0.063135</td>\n",
       "      <td>Bannach</td>\n",
       "      <td>PA</td>\n",
       "      <td>-50.8652</td>\n",
       "      <td>-7.38636</td>\n",
       "    </tr>\n",
       "    <tr>\n",
       "      <th>186411</th>\n",
       "      <td>MINERACAO</td>\n",
       "      <td>NaN</td>\n",
       "      <td>169105</td>\n",
       "      <td>1/14/2018</td>\n",
       "      <td>AWFI</td>\n",
       "      <td>CBERS-4</td>\n",
       "      <td>0.121459</td>\n",
       "      <td>├üREA DE PROTE├ç├âO AMBIENTAL DO TAPAJ├ôS</td>\n",
       "      <td>0.121459</td>\n",
       "      <td>Jacareacanga</td>\n",
       "      <td>PA</td>\n",
       "      <td>-57.4651</td>\n",
       "      <td>-6.16502</td>\n",
       "    </tr>\n",
       "    <tr>\n",
       "      <th>186412</th>\n",
       "      <td>MINERACAO</td>\n",
       "      <td>NaN</td>\n",
       "      <td>169105</td>\n",
       "      <td>1/14/2018</td>\n",
       "      <td>AWFI</td>\n",
       "      <td>CBERS-4</td>\n",
       "      <td>0.000000</td>\n",
       "      <td>NaN</td>\n",
       "      <td>0.097486</td>\n",
       "      <td>Jacareacanga</td>\n",
       "      <td>PA</td>\n",
       "      <td>-57.3608</td>\n",
       "      <td>-5.73095</td>\n",
       "    </tr>\n",
       "  </tbody>\n",
       "</table>\n",
       "<p>186413 rows × 13 columns</p>\n",
       "</div>"
      ],
      "text/plain": [
       "                   CLASSNAME QUADRANT  PATH_ROW  VIEW_DATE SENSOR SATELLITE  \\\n",
       "0       CICATRIZ_DE_QUEIMADA      NaN    165105  7/27/2020   AWFI   CBERS-4   \n",
       "1       CICATRIZ_DE_QUEIMADA      NaN    168105  1/17/2018   AWFI   CBERS-4   \n",
       "2       CICATRIZ_DE_QUEIMADA      NaN    168105  1/17/2018   AWFI   CBERS-4   \n",
       "3       CICATRIZ_DE_QUEIMADA      NaN    168105  1/17/2018   AWFI   CBERS-4   \n",
       "4       CICATRIZ_DE_QUEIMADA      NaN    168105  1/17/2018   AWFI   CBERS-4   \n",
       "...                      ...      ...       ...        ...    ...       ...   \n",
       "186408             MINERACAO      NaN    210124  6/24/2020    WFI  CBERS-4A   \n",
       "186409             MINERACAO      NaN    165105  7/27/2020   AWFI   CBERS-4   \n",
       "186410             MINERACAO      NaN    165105  7/27/2020   AWFI   CBERS-4   \n",
       "186411             MINERACAO      NaN    169105  1/14/2018   AWFI   CBERS-4   \n",
       "186412             MINERACAO      NaN    169105  1/14/2018   AWFI   CBERS-4   \n",
       "\n",
       "        AREAUCKM                                         UC  AREAMUNKM  \\\n",
       "0       0.000000                                        NaN   0.075231   \n",
       "1       0.000000                                        NaN   0.344234   \n",
       "2       0.000000                                        NaN   4.788569   \n",
       "3       0.000000                                        NaN   1.067603   \n",
       "4       0.000000                                        NaN   0.067680   \n",
       "...          ...                                        ...        ...   \n",
       "186408  0.000000                                        NaN   0.110526   \n",
       "186409  0.000000                                        NaN   0.095688   \n",
       "186410  0.000000                                        NaN   0.063135   \n",
       "186411  0.121459  ├üREA DE PROTE├ç├âO AMBIENTAL DO TAPAJ├ôS   0.121459   \n",
       "186412  0.000000                                        NaN   0.097486   \n",
       "\n",
       "               MUNICIPALI  UF        X        Y  \n",
       "0       Novo Repartimento  PA -50.4712 -4.91754  \n",
       "1                Altamira  PA -55.0566 -6.91208  \n",
       "2             Brasil Novo  PA -52.5766 -3.56411  \n",
       "3                Altamira  PA -55.2042 -6.78340  \n",
       "4                Alenquer  PA -54.9766 -1.79718  \n",
       "...                   ...  ..      ...      ...  \n",
       "186408    Cumaru do Norte  PA -50.9172 -7.76491  \n",
       "186409            Bannach  PA -50.8812 -7.41031  \n",
       "186410            Bannach  PA -50.8652 -7.38636  \n",
       "186411       Jacareacanga  PA -57.4651 -6.16502  \n",
       "186412       Jacareacanga  PA -57.3608 -5.73095  \n",
       "\n",
       "[186413 rows x 13 columns]"
      ]
     },
     "execution_count": 3,
     "metadata": {},
     "output_type": "execute_result"
    }
   ],
   "source": [
    "brasil_data"
   ]
  },
  {
   "cell_type": "code",
   "execution_count": 4,
   "metadata": {
    "scrolled": true
   },
   "outputs": [
    {
     "name": "stdout",
     "output_type": "stream",
     "text": [
      "-50.4712\n",
      "-4.91754\n"
     ]
    }
   ],
   "source": [
    "print(brasil_data['X'][0])\n",
    "print(brasil_data['Y'][0])"
   ]
  },
  {
   "cell_type": "code",
   "execution_count": 5,
   "metadata": {},
   "outputs": [],
   "source": [
    "brasil_data.reset_index(drop=False, inplace=True)"
   ]
  },
  {
   "cell_type": "code",
   "execution_count": 6,
   "metadata": {},
   "outputs": [],
   "source": [
    "brasil_data['base_url'] = brasil_data.apply(lambda row: f\"https://www.planet.com/explorer/#/center/{row['X']:.8},{row['Y']:.8}/zoom/8\", axis=1)"
   ]
  },
  {
   "cell_type": "code",
   "execution_count": 7,
   "metadata": {
    "scrolled": true
   },
   "outputs": [
    {
     "data": {
      "text/plain": [
       "0         https://www.planet.com/explorer/#/center/-50.4712,-4.91754/zoom/8\n",
       "1         https://www.planet.com/explorer/#/center/-55.0566,-6.91208/zoom/8\n",
       "2         https://www.planet.com/explorer/#/center/-52.5766,-3.56411/zoom/8\n",
       "3          https://www.planet.com/explorer/#/center/-55.2042,-6.7834/zoom/8\n",
       "4         https://www.planet.com/explorer/#/center/-54.9766,-1.79718/zoom/8\n",
       "                                        ...                                \n",
       "186408    https://www.planet.com/explorer/#/center/-50.9172,-7.76491/zoom/8\n",
       "186409    https://www.planet.com/explorer/#/center/-50.8812,-7.41031/zoom/8\n",
       "186410    https://www.planet.com/explorer/#/center/-50.8652,-7.38636/zoom/8\n",
       "186411    https://www.planet.com/explorer/#/center/-57.4651,-6.16502/zoom/8\n",
       "186412    https://www.planet.com/explorer/#/center/-57.3608,-5.73095/zoom/8\n",
       "Name: base_url, Length: 186413, dtype: object"
      ]
     },
     "execution_count": 7,
     "metadata": {},
     "output_type": "execute_result"
    }
   ],
   "source": [
    "brasil_data['base_url']"
   ]
  },
  {
   "cell_type": "code",
   "execution_count": 8,
   "metadata": {},
   "outputs": [
    {
     "name": "stdout",
     "output_type": "stream",
     "text": [
      "<class 'pandas.core.frame.DataFrame'>\n",
      "RangeIndex: 186413 entries, 0 to 186412\n",
      "Data columns (total 15 columns):\n",
      " #   Column      Non-Null Count   Dtype  \n",
      "---  ------      --------------   -----  \n",
      " 0   index       186413 non-null  int64  \n",
      " 1   CLASSNAME   186413 non-null  object \n",
      " 2   QUADRANT    49516 non-null   object \n",
      " 3   PATH_ROW    186413 non-null  int64  \n",
      " 4   VIEW_DATE   186413 non-null  object \n",
      " 5   SENSOR      186413 non-null  object \n",
      " 6   SATELLITE   186413 non-null  object \n",
      " 7   AREAUCKM    186413 non-null  float64\n",
      " 8   UC          8568 non-null    object \n",
      " 9   AREAMUNKM   186413 non-null  float64\n",
      " 10  MUNICIPALI  186411 non-null  object \n",
      " 11  UF          186411 non-null  object \n",
      " 12  X           186413 non-null  float64\n",
      " 13  Y           186413 non-null  float64\n",
      " 14  base_url    186413 non-null  object \n",
      "dtypes: float64(4), int64(2), object(9)\n",
      "memory usage: 21.3+ MB\n"
     ]
    }
   ],
   "source": [
    "brasil_data.info()"
   ]
  },
  {
   "cell_type": "code",
   "execution_count": 9,
   "metadata": {
    "scrolled": true
   },
   "outputs": [],
   "source": [
    "geometry = [Point(xy) for xy in zip(brasil_data.X, brasil_data.Y)]"
   ]
  },
  {
   "cell_type": "code",
   "execution_count": 10,
   "metadata": {},
   "outputs": [],
   "source": [
    "brasil_data_gdf = gpd.GeoDataFrame(brasil_data, geometry=geometry)"
   ]
  },
  {
   "cell_type": "code",
   "execution_count": 11,
   "metadata": {},
   "outputs": [],
   "source": [
    "# brasil_data_gdf.crs = 'epsg:4674'"
   ]
  },
  {
   "cell_type": "code",
   "execution_count": 12,
   "metadata": {},
   "outputs": [],
   "source": [
    "brasil_data_gdf.crs = 'epsg:4326'"
   ]
  },
  {
   "cell_type": "markdown",
   "metadata": {},
   "source": [
    "cntry_crs = 32721"
   ]
  },
  {
   "cell_type": "markdown",
   "metadata": {},
   "source": [
    "brasil_data_gdf_m = brasil_data_gdf.to_crs('epsg:{}'.format(cntry_crs))"
   ]
  },
  {
   "cell_type": "code",
   "execution_count": 13,
   "metadata": {},
   "outputs": [],
   "source": [
    "deg_to_meters_lat_minus_seven = 110590\n",
    "five_km_in_deg = 5000/110590.\n",
    "def create_buffer(row):\n",
    "    dist = five_km_in_deg\n",
    "    point = row[\"geometry\"]\n",
    "    row[\"geometry\"] = point.buffer(dist)\n",
    "    return row"
   ]
  },
  {
   "cell_type": "code",
   "execution_count": 14,
   "metadata": {},
   "outputs": [],
   "source": [
    "brasil_data_buffer_gdf = brasil_data_gdf.apply(create_buffer,axis=1)"
   ]
  },
  {
   "cell_type": "code",
   "execution_count": 15,
   "metadata": {},
   "outputs": [],
   "source": [
    "brasil_data_buffer_gdf.crs = 'epsg:4326'"
   ]
  },
  {
   "cell_type": "code",
   "execution_count": 17,
   "metadata": {},
   "outputs": [],
   "source": [
    "brasil_data_buffer_gdf.to_file('test_4326.shp')"
   ]
  },
  {
   "cell_type": "code",
   "execution_count": 34,
   "metadata": {},
   "outputs": [],
   "source": [
    "brasil_data_buffer_gdf['wkt'] = brasil_data_buffer_gdf.apply(lambda row: row.geometry.simplify(0.0005).wkt.replace(' ',''), axis=1)"
   ]
  },
  {
   "cell_type": "code",
   "execution_count": 38,
   "metadata": {},
   "outputs": [],
   "source": [
    "brasil_data_buffer_gdf.drop(columns='geometry').to_csv('deter_public_amz_deter_public_extended.csv')"
   ]
  },
  {
   "cell_type": "code",
   "execution_count": null,
   "metadata": {},
   "outputs": [],
   "source": []
  }
 ],
 "metadata": {
  "kernelspec": {
   "display_name": "Python 3",
   "language": "python",
   "name": "python3"
  },
  "language_info": {
   "codemirror_mode": {
    "name": "ipython",
    "version": 3
   },
   "file_extension": ".py",
   "mimetype": "text/x-python",
   "name": "python",
   "nbconvert_exporter": "python",
   "pygments_lexer": "ipython3",
   "version": "3.7.3"
  },
  "toc": {
   "colors": {
    "hover_highlight": "#DAA520",
    "navigate_num": "#000000",
    "navigate_text": "#333333",
    "running_highlight": "#FF0000",
    "selected_highlight": "#FFD700",
    "sidebar_border": "#EEEEEE",
    "wrapper_background": "#FFFFFF"
   },
   "moveMenuLeft": true,
   "nav_menu": {
    "height": "12px",
    "width": "252px"
   },
   "navigate_menu": true,
   "number_sections": true,
   "sideBar": true,
   "threshold": 4,
   "toc_cell": true,
   "toc_section_display": "block",
   "toc_window_display": true,
   "widenNotebook": false
  }
 },
 "nbformat": 4,
 "nbformat_minor": 4
}
